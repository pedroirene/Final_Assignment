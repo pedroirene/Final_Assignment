{
 "cells": [
  {
   "cell_type": "markdown",
   "id": "b6ab6f11-dbe9-4210-a926-ba8d28b5745f",
   "metadata": {},
   "source": [
    "# Data Science Tools and Ecosystem"
   ]
  },
  {
   "cell_type": "markdown",
   "id": "9831ca53-790c-4b92-87df-ab1464501090",
   "metadata": {},
   "source": [
    "In this notebook, Data Science Tools and Ecosystem are summarized."
   ]
  },
  {
   "cell_type": "markdown",
   "id": "0e9226fe-1d03-4323-8687-36bb66b9a0ab",
   "metadata": {},
   "source": [
    "**Objectives:**\n",
    "\n",
    "- List popular languages for Data Science\n",
    "- List commonly used libraries used by Data Scientists\n",
    "- Name Data Science Tools\n",
    "- Examples of evaluating arithmetic expressions: (3*4)+5\n",
    "- Examples of evaluating arithmetic expressions: convert 200 minutes to hours"
   ]
  },
  {
   "cell_type": "markdown",
   "id": "2243faef-d58e-4a55-9433-495667de1334",
   "metadata": {},
   "source": [
    "Some of the popular languages that Data Scientists use are:\r\n",
    "\r\n",
    "1. Python\r\n",
    "2. R\r\n",
    "3. SQL\r\n",
    "4. Java\r\n",
    "5. Julia\r\n",
    "6. Scala"
   ]
  },
  {
   "cell_type": "markdown",
   "id": "a4fbae28-3b7b-487a-9ad8-a1aeed03e834",
   "metadata": {},
   "source": [
    "Some of the commonly used libraries used by Data Scientists include:\r\n",
    "\r\n",
    "1. Pandas\r\n",
    "2. Numpy\r\n",
    "3. Matplotlib\r\n",
    "4. ggplot2"
   ]
  },
  {
   "cell_type": "markdown",
   "id": "25c28551-0b78-4d70-96ed-42f03c333938",
   "metadata": {},
   "source": [
    "|Data Science Tools|\n",
    "|------------------|\n",
    "|Jupyter Notebook|\n",
    "|RStudio|\n",
    "|Google Colab|"
   ]
  },
  {
   "cell_type": "markdown",
   "id": "1c3c78d7-90b4-41a4-863a-4203794090e6",
   "metadata": {},
   "source": [
    "### Below are a few examples of evaluating arithmetic expressions in Python"
   ]
  },
  {
   "cell_type": "code",
   "execution_count": 1,
   "id": "13391e35-debe-4c0a-b02f-f714ed98dd12",
   "metadata": {},
   "outputs": [
    {
     "data": {
      "text/plain": [
       "17"
      ]
     },
     "execution_count": 1,
     "metadata": {},
     "output_type": "execute_result"
    }
   ],
   "source": [
    "# This a simple arithmetic expression to mutiply then add integers\n",
    "\n",
    "(3*4)+5"
   ]
  },
  {
   "cell_type": "code",
   "execution_count": 2,
   "id": "c20a83a1-a8d7-4f30-9dd7-8b188950c336",
   "metadata": {},
   "outputs": [
    {
     "name": "stdout",
     "output_type": "stream",
     "text": [
      "3.3333333333333335\n"
     ]
    }
   ],
   "source": [
    "# This will convert 200 minutes to hours by diving by 60\n",
    "\n",
    "x = 200 / 60\n",
    "print(x)"
   ]
  },
  {
   "cell_type": "markdown",
   "id": "028d30d0-acc2-4254-98a0-56fcebe4fe07",
   "metadata": {},
   "source": [
    "## Author\n",
    "\n",
    "Cristián Weason"
   ]
  },
  {
   "cell_type": "code",
   "execution_count": null,
   "id": "0dd8e513-4025-48a8-963b-c447eff27ed4",
   "metadata": {},
   "outputs": [],
   "source": []
  }
 ],
 "metadata": {
  "kernelspec": {
   "display_name": "Python 3 (ipykernel)",
   "language": "python",
   "name": "python3"
  },
  "language_info": {
   "codemirror_mode": {
    "name": "ipython",
    "version": 3
   },
   "file_extension": ".py",
   "mimetype": "text/x-python",
   "name": "python",
   "nbconvert_exporter": "python",
   "pygments_lexer": "ipython3",
   "version": "3.11.9"
  }
 },
 "nbformat": 4,
 "nbformat_minor": 5
}
